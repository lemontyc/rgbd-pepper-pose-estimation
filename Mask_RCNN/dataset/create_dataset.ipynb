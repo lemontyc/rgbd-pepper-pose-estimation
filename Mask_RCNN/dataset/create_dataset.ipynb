{
 "metadata": {
  "language_info": {
   "codemirror_mode": {
    "name": "ipython",
    "version": 3
   },
   "file_extension": ".py",
   "mimetype": "text/x-python",
   "name": "python",
   "nbconvert_exporter": "python",
   "pygments_lexer": "ipython3",
   "version": "3.8.5"
  },
  "orig_nbformat": 2,
  "kernelspec": {
   "name": "python385jvsc74a57bd0a93c8e22b69ed1e4c8b09482876ecb97938e48f58570318c37aacda7a62befa6",
   "display_name": "Python 3.8.5 64-bit ('base': conda)"
  }
 },
 "nbformat": 4,
 "nbformat_minor": 2,
 "cells": [
  {
   "cell_type": "code",
   "execution_count": 149,
   "metadata": {},
   "outputs": [],
   "source": [
    "from pathlib import Path\n",
    "import shutil\n",
    "import os\n",
    "import math"
   ]
  },
  {
   "cell_type": "code",
   "execution_count": 150,
   "metadata": {},
   "outputs": [],
   "source": [
    "OUTPUT_DATASET_PATH     =    r\"E:\\dataset\"\n",
    "INPUT_IMG_PATHs         =   [r\"E:\\Bags\\red\\cart_1_red\\png\\color\\images\", \n",
    "                             r\"E:\\Bags\\red\\cart_2_red\\png\\color\\images\", \n",
    "                             r\"E:\\Bags\\red\\cart_3_red\\png\\color\\images\",\n",
    "                             r\"E:\\Bags\\yellow\\cart_1_yellow\\png\\color\\images\",\n",
    "                             r\"E:\\Bags\\yellow\\cart_2_yellow\\png\\color\\images\",\n",
    "                             r\"E:\\Bags\\yellow\\cart_3_red_yellow\\png\\color\\images\",\n",
    "                             r\"E:\\Bags\\yellow\\cart_4_yellow_red\\png\\color\\images\"]                    \n",
    "\n",
    "DATASET_SIZE            = 600\n",
    "SAME_NUMBER_IMGS        = True\n"
   ]
  },
  {
   "cell_type": "code",
   "execution_count": 151,
   "metadata": {},
   "outputs": [
    {
     "output_type": "stream",
     "name": "stdout",
     "text": [
      "Final dataset size: \t 600 \t Location: \tE:\\dataset\n",
      "Paths given: \t7 \t Images copied from each path: \t 85 \n",
      "\n",
      "Total images: 1,657  \t saving every 19 \t saved images: 87 \t [cart_1_red]\n",
      "Total images: 1,177  \t saving every 13 \t saved images: 90 \t [cart_2_red]\n",
      "Total images: 1,290  \t saving every 15 \t saved images: 86 \t [cart_3_red]\n",
      "Total images: 693  \t saving every 8 \t saved images: 86 \t [cart_1_yellow]\n",
      "Total images: 663  \t saving every 7 \t saved images: 94 \t [cart_2_yellow]\n",
      "Total images: 5,401  \t saving every 63 \t saved images: 85 \t [cart_3_red_yellow]\n",
      "Total images: 5,258  \t saving every 61 \t saved images: 86 \t [cart_4_yellow_red]\n",
      "\n",
      "Total images: 16,139 (paths) \t Total images saved: 614\n"
     ]
    }
   ],
   "source": [
    "images_per_path = math.floor(DATASET_SIZE / len(INPUT_IMG_PATHs))\n",
    "print(\"Final dataset size: \\t {} \\t Location: \\t{}\".format(DATASET_SIZE, OUTPUT_DATASET_PATH))\n",
    "print(\"Paths given: \\t{} \\t Images copied from each path: \\t {} \\n\".format(len(INPUT_IMG_PATHs), images_per_path))\n",
    "\n",
    "total_files         = 0\n",
    "total_real_files    = 0\n",
    "saving_jump         = list()\n",
    "real_saved          = list()\n",
    "\n",
    "for path in INPUT_IMG_PATHs:\n",
    "    files_number        = len([name for name in os.listdir(path) if os.path.isfile(os.path.join(path, name))])\n",
    "    saving_jump.append(int(math.floor(files_number / images_per_path)))\n",
    "    real_saved.append(math.floor(files_number / saving_jump[-1]))\n",
    "    recording_name      = path.split('\\\\')[3]\n",
    "\n",
    "    total_files         = total_files + files_number\n",
    "    total_real_files    = total_real_files + real_saved[-1]\n",
    "\n",
    "    print(\"Total images: {:,}  \\t saving every {} \\t saved images: {} \\t [{}]\".format(files_number, saving_jump[-1], real_saved[-1], recording_name))\n",
    "\n",
    "\n",
    "\n",
    "print(\"\\nTotal images: {:,} (paths) \\t Total images saved: {:,}\".format(total_files, total_real_files))"
   ]
  },
  {
   "cell_type": "code",
   "execution_count": 152,
   "metadata": {
    "tags": []
   },
   "outputs": [
    {
     "output_type": "stream",
     "name": "stdout",
     "text": [
      "Path: E:\\Bags\\red\\cart_1_red\\png\\color\\images \t images to be saved: 87\n",
      "Done\n",
      "Path: E:\\Bags\\red\\cart_2_red\\png\\color\\images \t images to be saved: 90\n",
      "Done\n",
      "Path: E:\\Bags\\red\\cart_3_red\\png\\color\\images \t images to be saved: 86\n",
      "Done\n",
      "Path: E:\\Bags\\yellow\\cart_1_yellow\\png\\color\\images \t images to be saved: 86\n",
      "Done\n",
      "Path: E:\\Bags\\yellow\\cart_2_yellow\\png\\color\\images \t images to be saved: 94\n",
      "Done\n",
      "Path: E:\\Bags\\yellow\\cart_3_red_yellow\\png\\color\\images \t images to be saved: 85\n",
      "Done\n",
      "Path: E:\\Bags\\yellow\\cart_4_yellow_red\\png\\color\\images \t images to be saved: 86\n",
      "Done\n"
     ]
    }
   ],
   "source": [
    "\n",
    "\n",
    "for path, jump, real_saved  in zip(INPUT_IMG_PATHs, saving_jump, real_saved):\n",
    "    total_img_path  = 0\n",
    "    saved_img_num   = 0\n",
    "    print(\"Path: {} \\t images to be saved: {}\".format(path, real_saved))\n",
    "    for image in Path(path).rglob('*.png'):\n",
    "        if total_img_path % jump == 0:\n",
    "            shutil.copy(image, Path(OUTPUT_DATASET_PATH))\n",
    "            #print(\"[{}] saved image {} \".format(path.split('\\\\')[3], saved_img_num))\n",
    "            saved_img_num = saved_img_num + 1\n",
    "        total_img_path = total_img_path + 1\n",
    "    print(\"Done\")\n",
    "\n",
    "        \n",
    "    "
   ]
  }
 ]
}